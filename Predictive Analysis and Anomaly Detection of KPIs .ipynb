{
 "cells": [
  {
   "cell_type": "code",
   "execution_count": 1,
   "id": "2e2bc2bf",
   "metadata": {},
   "outputs": [
    {
     "name": "stdout",
     "output_type": "stream",
     "text": [
      "Assalam-o-Alaikum!\n"
     ]
    }
   ],
   "source": [
    "greetings = \"Assalam-o-Alaikum!\"\n",
    "print(greetings)"
   ]
  },
  {
   "cell_type": "markdown",
   "id": "b5cc122c",
   "metadata": {},
   "source": [
    "## Import Libraries"
   ]
  },
  {
   "cell_type": "code",
   "execution_count": 2,
   "id": "db5baae3",
   "metadata": {},
   "outputs": [],
   "source": [
    "import pandas as pd\n",
    "import numpy as np\n",
    "import sqlite3"
   ]
  },
  {
   "cell_type": "markdown",
   "id": "fadb5fd2",
   "metadata": {},
   "source": [
    "## Import Dataset"
   ]
  },
  {
   "cell_type": "code",
   "execution_count": 8,
   "id": "63fe77e5",
   "metadata": {},
   "outputs": [],
   "source": [
    "con = sqlite3.connect(\"traino - Copia (2).sqlite\")"
   ]
  },
  {
   "cell_type": "code",
   "execution_count": 11,
   "id": "167676fa",
   "metadata": {},
   "outputs": [
    {
     "data": {
      "text/html": [
       "<div>\n",
       "<style scoped>\n",
       "    .dataframe tbody tr th:only-of-type {\n",
       "        vertical-align: middle;\n",
       "    }\n",
       "\n",
       "    .dataframe tbody tr th {\n",
       "        vertical-align: top;\n",
       "    }\n",
       "\n",
       "    .dataframe thead th {\n",
       "        text-align: right;\n",
       "    }\n",
       "</style>\n",
       "<table border=\"1\" class=\"dataframe\">\n",
       "  <thead>\n",
       "    <tr style=\"text-align: right;\">\n",
       "      <th></th>\n",
       "      <th>Id</th>\n",
       "      <th>NomeTraino</th>\n",
       "      <th>MetriBuoni</th>\n",
       "      <th>MetriScarto</th>\n",
       "      <th>MetriTotaliProdotti</th>\n",
       "      <th>PezziFatti</th>\n",
       "      <th>StatoMacchina</th>\n",
       "      <th>RequestReset</th>\n",
       "      <th>AllMaterialeRotto</th>\n",
       "      <th>AllDrive</th>\n",
       "      <th>VelRifNastro</th>\n",
       "      <th>VelNastroMateriale</th>\n",
       "      <th>Timestamp</th>\n",
       "      <th>Elaborated</th>\n",
       "      <th>CounterReset</th>\n",
       "    </tr>\n",
       "  </thead>\n",
       "  <tbody>\n",
       "    <tr>\n",
       "      <th>0</th>\n",
       "      <td>1</td>\n",
       "      <td>TRAINO-20</td>\n",
       "      <td>4.032477</td>\n",
       "      <td>0.520219</td>\n",
       "      <td>4.552696</td>\n",
       "      <td>0</td>\n",
       "      <td>0</td>\n",
       "      <td>0</td>\n",
       "      <td>0</td>\n",
       "      <td>0</td>\n",
       "      <td>6.14484</td>\n",
       "      <td>0.0</td>\n",
       "      <td>2022-11-17 12:58:42.2570125</td>\n",
       "      <td>1</td>\n",
       "      <td>NaN</td>\n",
       "    </tr>\n",
       "    <tr>\n",
       "      <th>1</th>\n",
       "      <td>2</td>\n",
       "      <td>TRAINO-20</td>\n",
       "      <td>4.032477</td>\n",
       "      <td>0.520219</td>\n",
       "      <td>4.552696</td>\n",
       "      <td>0</td>\n",
       "      <td>0</td>\n",
       "      <td>0</td>\n",
       "      <td>0</td>\n",
       "      <td>0</td>\n",
       "      <td>6.14484</td>\n",
       "      <td>0.0</td>\n",
       "      <td>2022-11-17 12:58:44.7557807</td>\n",
       "      <td>1</td>\n",
       "      <td>NaN</td>\n",
       "    </tr>\n",
       "    <tr>\n",
       "      <th>2</th>\n",
       "      <td>3</td>\n",
       "      <td>TRAINO-20</td>\n",
       "      <td>4.032477</td>\n",
       "      <td>0.520219</td>\n",
       "      <td>4.552696</td>\n",
       "      <td>0</td>\n",
       "      <td>0</td>\n",
       "      <td>0</td>\n",
       "      <td>0</td>\n",
       "      <td>0</td>\n",
       "      <td>6.14484</td>\n",
       "      <td>0.0</td>\n",
       "      <td>2022-11-17 12:58:47.7259563</td>\n",
       "      <td>1</td>\n",
       "      <td>NaN</td>\n",
       "    </tr>\n",
       "    <tr>\n",
       "      <th>3</th>\n",
       "      <td>4</td>\n",
       "      <td>TRAINO-20</td>\n",
       "      <td>4.032477</td>\n",
       "      <td>0.520219</td>\n",
       "      <td>4.552696</td>\n",
       "      <td>0</td>\n",
       "      <td>0</td>\n",
       "      <td>0</td>\n",
       "      <td>0</td>\n",
       "      <td>0</td>\n",
       "      <td>6.14484</td>\n",
       "      <td>0.0</td>\n",
       "      <td>2022-11-17 12:58:51.1159078</td>\n",
       "      <td>1</td>\n",
       "      <td>NaN</td>\n",
       "    </tr>\n",
       "    <tr>\n",
       "      <th>4</th>\n",
       "      <td>5</td>\n",
       "      <td>TRAINO-20</td>\n",
       "      <td>4.032477</td>\n",
       "      <td>0.520219</td>\n",
       "      <td>4.552696</td>\n",
       "      <td>0</td>\n",
       "      <td>0</td>\n",
       "      <td>0</td>\n",
       "      <td>0</td>\n",
       "      <td>0</td>\n",
       "      <td>6.14484</td>\n",
       "      <td>0.0</td>\n",
       "      <td>2022-11-17 12:58:54.6943812</td>\n",
       "      <td>1</td>\n",
       "      <td>NaN</td>\n",
       "    </tr>\n",
       "  </tbody>\n",
       "</table>\n",
       "</div>"
      ],
      "text/plain": [
       "   Id NomeTraino  MetriBuoni  MetriScarto  MetriTotaliProdotti  PezziFatti  \\\n",
       "0   1  TRAINO-20    4.032477     0.520219             4.552696           0   \n",
       "1   2  TRAINO-20    4.032477     0.520219             4.552696           0   \n",
       "2   3  TRAINO-20    4.032477     0.520219             4.552696           0   \n",
       "3   4  TRAINO-20    4.032477     0.520219             4.552696           0   \n",
       "4   5  TRAINO-20    4.032477     0.520219             4.552696           0   \n",
       "\n",
       "   StatoMacchina  RequestReset  AllMaterialeRotto  AllDrive  VelRifNastro  \\\n",
       "0              0             0                  0         0       6.14484   \n",
       "1              0             0                  0         0       6.14484   \n",
       "2              0             0                  0         0       6.14484   \n",
       "3              0             0                  0         0       6.14484   \n",
       "4              0             0                  0         0       6.14484   \n",
       "\n",
       "   VelNastroMateriale                    Timestamp  Elaborated  CounterReset  \n",
       "0                 0.0  2022-11-17 12:58:42.2570125           1           NaN  \n",
       "1                 0.0  2022-11-17 12:58:44.7557807           1           NaN  \n",
       "2                 0.0  2022-11-17 12:58:47.7259563           1           NaN  \n",
       "3                 0.0  2022-11-17 12:58:51.1159078           1           NaN  \n",
       "4                 0.0  2022-11-17 12:58:54.6943812           1           NaN  "
      ]
     },
     "execution_count": 11,
     "metadata": {},
     "output_type": "execute_result"
    }
   ],
   "source": [
    "DataLog = pd.read_sql_query(\"SELECT * FROM DataLog\", con)\n",
    "DataLog.head()"
   ]
  },
  {
   "cell_type": "markdown",
   "id": "5d1d676e",
   "metadata": {},
   "source": [
    "**Renaming Of Columns By using Dictionary method**"
   ]
  },
  {
   "cell_type": "code",
   "execution_count": 28,
   "id": "1220bff2",
   "metadata": {},
   "outputs": [
    {
     "data": {
      "text/html": [
       "<div>\n",
       "<style scoped>\n",
       "    .dataframe tbody tr th:only-of-type {\n",
       "        vertical-align: middle;\n",
       "    }\n",
       "\n",
       "    .dataframe tbody tr th {\n",
       "        vertical-align: top;\n",
       "    }\n",
       "\n",
       "    .dataframe thead th {\n",
       "        text-align: right;\n",
       "    }\n",
       "</style>\n",
       "<table border=\"1\" class=\"dataframe\">\n",
       "  <thead>\n",
       "    <tr style=\"text-align: right;\">\n",
       "      <th></th>\n",
       "      <th>ID</th>\n",
       "      <th>MachineName</th>\n",
       "      <th>GoodLength</th>\n",
       "      <th>DefectiveLength</th>\n",
       "      <th>TotalProductLength</th>\n",
       "      <th>TotalPiecesProduced</th>\n",
       "      <th>MachineStatus</th>\n",
       "      <th>RequestReset</th>\n",
       "      <th>TotalBrokenMaterial</th>\n",
       "      <th>AllDrive</th>\n",
       "      <th>ReferenceBeltSpeed</th>\n",
       "      <th>ActualBeltSpeed</th>\n",
       "      <th>Timestamp</th>\n",
       "      <th>Elaborated</th>\n",
       "      <th>CounterReset</th>\n",
       "    </tr>\n",
       "  </thead>\n",
       "  <tbody>\n",
       "    <tr>\n",
       "      <th>0</th>\n",
       "      <td>1</td>\n",
       "      <td>TRAINO-20</td>\n",
       "      <td>4.032477</td>\n",
       "      <td>0.520219</td>\n",
       "      <td>4.552696</td>\n",
       "      <td>0</td>\n",
       "      <td>0</td>\n",
       "      <td>0</td>\n",
       "      <td>0</td>\n",
       "      <td>0</td>\n",
       "      <td>6.14484</td>\n",
       "      <td>0.0</td>\n",
       "      <td>2022-11-17 12:58:42.2570125</td>\n",
       "      <td>1</td>\n",
       "      <td>NaN</td>\n",
       "    </tr>\n",
       "    <tr>\n",
       "      <th>1</th>\n",
       "      <td>2</td>\n",
       "      <td>TRAINO-20</td>\n",
       "      <td>4.032477</td>\n",
       "      <td>0.520219</td>\n",
       "      <td>4.552696</td>\n",
       "      <td>0</td>\n",
       "      <td>0</td>\n",
       "      <td>0</td>\n",
       "      <td>0</td>\n",
       "      <td>0</td>\n",
       "      <td>6.14484</td>\n",
       "      <td>0.0</td>\n",
       "      <td>2022-11-17 12:58:44.7557807</td>\n",
       "      <td>1</td>\n",
       "      <td>NaN</td>\n",
       "    </tr>\n",
       "    <tr>\n",
       "      <th>2</th>\n",
       "      <td>3</td>\n",
       "      <td>TRAINO-20</td>\n",
       "      <td>4.032477</td>\n",
       "      <td>0.520219</td>\n",
       "      <td>4.552696</td>\n",
       "      <td>0</td>\n",
       "      <td>0</td>\n",
       "      <td>0</td>\n",
       "      <td>0</td>\n",
       "      <td>0</td>\n",
       "      <td>6.14484</td>\n",
       "      <td>0.0</td>\n",
       "      <td>2022-11-17 12:58:47.7259563</td>\n",
       "      <td>1</td>\n",
       "      <td>NaN</td>\n",
       "    </tr>\n",
       "    <tr>\n",
       "      <th>3</th>\n",
       "      <td>4</td>\n",
       "      <td>TRAINO-20</td>\n",
       "      <td>4.032477</td>\n",
       "      <td>0.520219</td>\n",
       "      <td>4.552696</td>\n",
       "      <td>0</td>\n",
       "      <td>0</td>\n",
       "      <td>0</td>\n",
       "      <td>0</td>\n",
       "      <td>0</td>\n",
       "      <td>6.14484</td>\n",
       "      <td>0.0</td>\n",
       "      <td>2022-11-17 12:58:51.1159078</td>\n",
       "      <td>1</td>\n",
       "      <td>NaN</td>\n",
       "    </tr>\n",
       "    <tr>\n",
       "      <th>4</th>\n",
       "      <td>5</td>\n",
       "      <td>TRAINO-20</td>\n",
       "      <td>4.032477</td>\n",
       "      <td>0.520219</td>\n",
       "      <td>4.552696</td>\n",
       "      <td>0</td>\n",
       "      <td>0</td>\n",
       "      <td>0</td>\n",
       "      <td>0</td>\n",
       "      <td>0</td>\n",
       "      <td>6.14484</td>\n",
       "      <td>0.0</td>\n",
       "      <td>2022-11-17 12:58:54.6943812</td>\n",
       "      <td>1</td>\n",
       "      <td>NaN</td>\n",
       "    </tr>\n",
       "  </tbody>\n",
       "</table>\n",
       "</div>"
      ],
      "text/plain": [
       "   ID MachineName  GoodLength  DefectiveLength  TotalProductLength  \\\n",
       "0   1   TRAINO-20    4.032477         0.520219            4.552696   \n",
       "1   2   TRAINO-20    4.032477         0.520219            4.552696   \n",
       "2   3   TRAINO-20    4.032477         0.520219            4.552696   \n",
       "3   4   TRAINO-20    4.032477         0.520219            4.552696   \n",
       "4   5   TRAINO-20    4.032477         0.520219            4.552696   \n",
       "\n",
       "   TotalPiecesProduced  MachineStatus  RequestReset  TotalBrokenMaterial  \\\n",
       "0                    0              0             0                    0   \n",
       "1                    0              0             0                    0   \n",
       "2                    0              0             0                    0   \n",
       "3                    0              0             0                    0   \n",
       "4                    0              0             0                    0   \n",
       "\n",
       "   AllDrive  ReferenceBeltSpeed  ActualBeltSpeed                    Timestamp  \\\n",
       "0         0             6.14484              0.0  2022-11-17 12:58:42.2570125   \n",
       "1         0             6.14484              0.0  2022-11-17 12:58:44.7557807   \n",
       "2         0             6.14484              0.0  2022-11-17 12:58:47.7259563   \n",
       "3         0             6.14484              0.0  2022-11-17 12:58:51.1159078   \n",
       "4         0             6.14484              0.0  2022-11-17 12:58:54.6943812   \n",
       "\n",
       "   Elaborated  CounterReset  \n",
       "0           1           NaN  \n",
       "1           1           NaN  \n",
       "2           1           NaN  \n",
       "3           1           NaN  \n",
       "4           1           NaN  "
      ]
     },
     "execution_count": 28,
     "metadata": {},
     "output_type": "execute_result"
    }
   ],
   "source": [
    "rename_dict = {\n",
    "    \"Id\": \"ID\",\n",
    "    \"MachinaName\": \"MachineName\",\n",
    "    \"MetriBuoni\": \"GoodLength\", \n",
    "    \"defectiveLength\": \"DefectiveLength\",\n",
    "    'MetriTotaliProdotti': 'TotalProductLength',\n",
    "    'PezziFatti': 'TotalPiecesProduced',\n",
    "    'StatoMacchina': 'MachineStatus',\n",
    "    'RequestReset': 'RequestReset',\n",
    "    'AllMaterialeRotto': 'TotalBrokenMaterial',\n",
    "    'AllDrive': 'AllDrive',\n",
    "    'VelRifNastro': 'ReferenceBeltSpeed',\n",
    "    'VelNastroMateriale': 'ActualBeltSpeed',\n",
    "    'Timestamp': 'Timestamp',\n",
    "    'Elaborated': 'Elaborated',\n",
    "    'CounterReset': 'CounterReset'\n",
    "}\n",
    "DataLog.rename(columns = rename_dict, inplace = True)\n",
    "DataLog.head()"
   ]
  },
  {
   "cell_type": "markdown",
   "id": "330486bc",
   "metadata": {},
   "source": [
    "**Determining the shape of the data**"
   ]
  },
  {
   "cell_type": "code",
   "execution_count": 27,
   "id": "bf5dd8ac",
   "metadata": {},
   "outputs": [
    {
     "data": {
      "text/plain": [
       "(1393857, 15)"
      ]
     },
     "execution_count": 27,
     "metadata": {},
     "output_type": "execute_result"
    }
   ],
   "source": [
    "DataLog.shape"
   ]
  },
  {
   "cell_type": "markdown",
   "id": "c74a8863",
   "metadata": {},
   "source": [
    "Here, the first no.shows the Number of Rows and the second no. shows the Number Of Columns"
   ]
  },
  {
   "cell_type": "markdown",
   "id": "bba87f39",
   "metadata": {},
   "source": [
    "**Count the Total Values by Their MachineName.**"
   ]
  },
  {
   "cell_type": "code",
   "execution_count": 30,
   "id": "eac6ce51",
   "metadata": {},
   "outputs": [
    {
     "data": {
      "text/html": [
       "<div>\n",
       "<style scoped>\n",
       "    .dataframe tbody tr th:only-of-type {\n",
       "        vertical-align: middle;\n",
       "    }\n",
       "\n",
       "    .dataframe tbody tr th {\n",
       "        vertical-align: top;\n",
       "    }\n",
       "\n",
       "    .dataframe thead th {\n",
       "        text-align: right;\n",
       "    }\n",
       "</style>\n",
       "<table border=\"1\" class=\"dataframe\">\n",
       "  <thead>\n",
       "    <tr style=\"text-align: right;\">\n",
       "      <th></th>\n",
       "      <th>ID</th>\n",
       "      <th>GoodLength</th>\n",
       "      <th>DefectiveLength</th>\n",
       "      <th>TotalProductLength</th>\n",
       "      <th>TotalPiecesProduced</th>\n",
       "      <th>MachineStatus</th>\n",
       "      <th>RequestReset</th>\n",
       "      <th>TotalBrokenMaterial</th>\n",
       "      <th>AllDrive</th>\n",
       "      <th>ReferenceBeltSpeed</th>\n",
       "      <th>ActualBeltSpeed</th>\n",
       "      <th>Timestamp</th>\n",
       "      <th>Elaborated</th>\n",
       "      <th>CounterReset</th>\n",
       "    </tr>\n",
       "    <tr>\n",
       "      <th>MachineName</th>\n",
       "      <th></th>\n",
       "      <th></th>\n",
       "      <th></th>\n",
       "      <th></th>\n",
       "      <th></th>\n",
       "      <th></th>\n",
       "      <th></th>\n",
       "      <th></th>\n",
       "      <th></th>\n",
       "      <th></th>\n",
       "      <th></th>\n",
       "      <th></th>\n",
       "      <th></th>\n",
       "      <th></th>\n",
       "    </tr>\n",
       "  </thead>\n",
       "  <tbody>\n",
       "    <tr>\n",
       "      <th>TRAINO-13</th>\n",
       "      <td>30755</td>\n",
       "      <td>30755</td>\n",
       "      <td>30755</td>\n",
       "      <td>30755</td>\n",
       "      <td>30755</td>\n",
       "      <td>30755</td>\n",
       "      <td>30755</td>\n",
       "      <td>30755</td>\n",
       "      <td>30755</td>\n",
       "      <td>30755</td>\n",
       "      <td>30755</td>\n",
       "      <td>30755</td>\n",
       "      <td>30755</td>\n",
       "      <td>30755</td>\n",
       "    </tr>\n",
       "    <tr>\n",
       "      <th>TRAINO-20</th>\n",
       "      <td>367571</td>\n",
       "      <td>367571</td>\n",
       "      <td>367571</td>\n",
       "      <td>367571</td>\n",
       "      <td>367571</td>\n",
       "      <td>367571</td>\n",
       "      <td>367571</td>\n",
       "      <td>367571</td>\n",
       "      <td>367571</td>\n",
       "      <td>367571</td>\n",
       "      <td>367571</td>\n",
       "      <td>367571</td>\n",
       "      <td>367571</td>\n",
       "      <td>147143</td>\n",
       "    </tr>\n",
       "    <tr>\n",
       "      <th>TRAINO-28</th>\n",
       "      <td>949865</td>\n",
       "      <td>949865</td>\n",
       "      <td>949865</td>\n",
       "      <td>949865</td>\n",
       "      <td>949865</td>\n",
       "      <td>949865</td>\n",
       "      <td>949865</td>\n",
       "      <td>949865</td>\n",
       "      <td>949865</td>\n",
       "      <td>949865</td>\n",
       "      <td>949865</td>\n",
       "      <td>949865</td>\n",
       "      <td>949865</td>\n",
       "      <td>949865</td>\n",
       "    </tr>\n",
       "    <tr>\n",
       "      <th>TRAINO-4</th>\n",
       "      <td>45666</td>\n",
       "      <td>45666</td>\n",
       "      <td>45666</td>\n",
       "      <td>45666</td>\n",
       "      <td>45666</td>\n",
       "      <td>45666</td>\n",
       "      <td>45666</td>\n",
       "      <td>45666</td>\n",
       "      <td>45666</td>\n",
       "      <td>45666</td>\n",
       "      <td>45666</td>\n",
       "      <td>45666</td>\n",
       "      <td>45666</td>\n",
       "      <td>45666</td>\n",
       "    </tr>\n",
       "  </tbody>\n",
       "</table>\n",
       "</div>"
      ],
      "text/plain": [
       "                 ID  GoodLength  DefectiveLength  TotalProductLength  \\\n",
       "MachineName                                                            \n",
       "TRAINO-13     30755       30755            30755               30755   \n",
       "TRAINO-20    367571      367571           367571              367571   \n",
       "TRAINO-28    949865      949865           949865              949865   \n",
       "TRAINO-4      45666       45666            45666               45666   \n",
       "\n",
       "             TotalPiecesProduced  MachineStatus  RequestReset  \\\n",
       "MachineName                                                     \n",
       "TRAINO-13                  30755          30755         30755   \n",
       "TRAINO-20                 367571         367571        367571   \n",
       "TRAINO-28                 949865         949865        949865   \n",
       "TRAINO-4                   45666          45666         45666   \n",
       "\n",
       "             TotalBrokenMaterial  AllDrive  ReferenceBeltSpeed  \\\n",
       "MachineName                                                      \n",
       "TRAINO-13                  30755     30755               30755   \n",
       "TRAINO-20                 367571    367571              367571   \n",
       "TRAINO-28                 949865    949865              949865   \n",
       "TRAINO-4                   45666     45666               45666   \n",
       "\n",
       "             ActualBeltSpeed  Timestamp  Elaborated  CounterReset  \n",
       "MachineName                                                        \n",
       "TRAINO-13              30755      30755       30755         30755  \n",
       "TRAINO-20             367571     367571      367571        147143  \n",
       "TRAINO-28             949865     949865      949865        949865  \n",
       "TRAINO-4               45666      45666       45666         45666  "
      ]
     },
     "execution_count": 30,
     "metadata": {},
     "output_type": "execute_result"
    }
   ],
   "source": [
    "DataLog.groupby(\"MachineName\").count()"
   ]
  },
  {
   "cell_type": "markdown",
   "id": "5489d821",
   "metadata": {},
   "source": [
    "Here we can see that, There are Four Machines in a dataset and we count their total values by each Column."
   ]
  },
  {
   "cell_type": "markdown",
   "id": "61c74b7e",
   "metadata": {},
   "source": [
    "**Variable Identification and Typecasting**"
   ]
  },
  {
   "cell_type": "code",
   "execution_count": 32,
   "id": "f8edc690",
   "metadata": {},
   "outputs": [
    {
     "name": "stdout",
     "output_type": "stream",
     "text": [
      "<class 'pandas.core.frame.DataFrame'>\n",
      "RangeIndex: 1393857 entries, 0 to 1393856\n",
      "Data columns (total 15 columns):\n",
      " #   Column               Non-Null Count    Dtype  \n",
      "---  ------               --------------    -----  \n",
      " 0   ID                   1393857 non-null  int64  \n",
      " 1   MachineName          1393857 non-null  object \n",
      " 2   GoodLength           1393857 non-null  float64\n",
      " 3   DefectiveLength      1393857 non-null  float64\n",
      " 4   TotalProductLength   1393857 non-null  float64\n",
      " 5   TotalPiecesProduced  1393857 non-null  int64  \n",
      " 6   MachineStatus        1393857 non-null  int64  \n",
      " 7   RequestReset         1393857 non-null  int64  \n",
      " 8   TotalBrokenMaterial  1393857 non-null  int64  \n",
      " 9   AllDrive             1393857 non-null  int64  \n",
      " 10  ReferenceBeltSpeed   1393857 non-null  float64\n",
      " 11  ActualBeltSpeed      1393857 non-null  float64\n",
      " 12  Timestamp            1393857 non-null  object \n",
      " 13  Elaborated           1393857 non-null  int64  \n",
      " 14  CounterReset         1173429 non-null  float64\n",
      "dtypes: float64(6), int64(7), object(2)\n",
      "memory usage: 159.5+ MB\n"
     ]
    }
   ],
   "source": [
    "DataLog.info()"
   ]
  },
  {
   "cell_type": "markdown",
   "id": "edd17e12",
   "metadata": {},
   "source": [
    "There are a lot of variables visible at one, so let's narrow this down by looking at one datatype at once. We will start with int"
   ]
  },
  {
   "cell_type": "markdown",
   "id": "712b6802",
   "metadata": {},
   "source": [
    "**1: Int Type;**"
   ]
  },
  {
   "cell_type": "code",
   "execution_count": 40,
   "id": "a3bde721",
   "metadata": {},
   "outputs": [
    {
     "data": {
      "text/plain": [
       "ID                     int64\n",
       "TotalPiecesProduced    int64\n",
       "MachineStatus          int64\n",
       "RequestReset           int64\n",
       "TotalBrokenMaterial    int64\n",
       "AllDrive               int64\n",
       "Elaborated             int64\n",
       "dtype: object"
      ]
     },
     "execution_count": 40,
     "metadata": {},
     "output_type": "execute_result"
    }
   ],
   "source": [
    "DataLog.dtypes[DataLog.dtypes == \"int64\"]"
   ]
  },
  {
   "cell_type": "markdown",
   "id": "ddd2c44c",
   "metadata": {},
   "source": [
    "Now we convert some of the above columns which have int64 data type to a categorical data type"
   ]
  },
  {
   "cell_type": "code",
   "execution_count": 41,
   "id": "07456678",
   "metadata": {},
   "outputs": [],
   "source": [
    "DataLog[\"MachineStatus\"] = DataLog[\"MachineStatus\"].astype(\"category\")\n",
    "DataLog[\"RequestReset\"] = DataLog[\"RequestReset\"].astype(\"category\")\n",
    "DataLog[\"AllDrive\"] = DataLog[\"AllDrive\"].astype(\"category\")\n",
    "DataLog[\"Elaborated\"] = DataLog[\"Elaborated\"].astype(\"category\")"
   ]
  },
  {
   "cell_type": "markdown",
   "id": "946b3aee",
   "metadata": {},
   "source": [
    "By appropriately adjusting the data types of these features, the overall data analysis and interpretation will be more accurate and meaningful."
   ]
  },
  {
   "cell_type": "code",
   "execution_count": 42,
   "id": "73551154",
   "metadata": {},
   "outputs": [],
   "source": [
    "# Check The Output which verifies our Conversions"
   ]
  },
  {
   "cell_type": "code",
   "execution_count": 44,
   "id": "e425cb88",
   "metadata": {},
   "outputs": [
    {
     "data": {
      "text/plain": [
       "ID                     int64\n",
       "TotalPiecesProduced    int64\n",
       "TotalBrokenMaterial    int64\n",
       "dtype: object"
      ]
     },
     "execution_count": 44,
     "metadata": {},
     "output_type": "execute_result"
    }
   ],
   "source": [
    "DataLog.dtypes[DataLog.dtypes == \"int64\"]"
   ]
  },
  {
   "cell_type": "markdown",
   "id": "9d18d193",
   "metadata": {},
   "source": [
    "**2: Float Data Type;**"
   ]
  },
  {
   "cell_type": "code",
   "execution_count": 45,
   "id": "1d44289b",
   "metadata": {},
   "outputs": [],
   "source": [
    "# Identifying variables with float data type"
   ]
  },
  {
   "cell_type": "code",
   "execution_count": 46,
   "id": "22932187",
   "metadata": {},
   "outputs": [
    {
     "data": {
      "text/plain": [
       "GoodLength            float64\n",
       "DefectiveLength       float64\n",
       "TotalProductLength    float64\n",
       "ReferenceBeltSpeed    float64\n",
       "ActualBeltSpeed       float64\n",
       "CounterReset          float64\n",
       "dtype: object"
      ]
     },
     "execution_count": 46,
     "metadata": {},
     "output_type": "execute_result"
    }
   ],
   "source": [
    "DataLog.dtypes[DataLog.dtypes == 'float64']"
   ]
  },
  {
   "cell_type": "code",
   "execution_count": 48,
   "id": "3e0a83b9",
   "metadata": {},
   "outputs": [],
   "source": [
    "DataLog[\"CounterReset\"] = DataLog[\"CounterReset\"].astype(\"Int64\")"
   ]
  },
  {
   "cell_type": "code",
   "execution_count": 49,
   "id": "6e09f127",
   "metadata": {},
   "outputs": [
    {
     "data": {
      "text/plain": [
       "GoodLength            float64\n",
       "DefectiveLength       float64\n",
       "TotalProductLength    float64\n",
       "ReferenceBeltSpeed    float64\n",
       "ActualBeltSpeed       float64\n",
       "dtype: object"
      ]
     },
     "execution_count": 49,
     "metadata": {},
     "output_type": "execute_result"
    }
   ],
   "source": [
    "DataLog.dtypes[DataLog.dtypes == \"float64\"]"
   ]
  },
  {
   "cell_type": "markdown",
   "id": "809de812",
   "metadata": {},
   "source": [
    "**3: Object Type;**"
   ]
  },
  {
   "cell_type": "code",
   "execution_count": 50,
   "id": "57e155fd",
   "metadata": {},
   "outputs": [],
   "source": [
    "#Identifying variables with Object Type"
   ]
  },
  {
   "cell_type": "code",
   "execution_count": 51,
   "id": "901247f3",
   "metadata": {},
   "outputs": [
    {
     "data": {
      "text/plain": [
       "MachineName    object\n",
       "Timestamp      object\n",
       "dtype: object"
      ]
     },
     "execution_count": 51,
     "metadata": {},
     "output_type": "execute_result"
    }
   ],
   "source": [
    "DataLog.dtypes[DataLog.dtypes == \"object\"]"
   ]
  },
  {
   "cell_type": "markdown",
   "id": "6399f895",
   "metadata": {},
   "source": [
    "1: Machine Name data type is an object type data, and Pandas was unable to recognize the data so we convert it into categorical data type."
   ]
  },
  {
   "cell_type": "markdown",
   "id": "7b47f663",
   "metadata": {},
   "source": [
    "2: Timestamp data is also an object type data, and it is perform time related operations, so we convert it into datetime data type."
   ]
  },
  {
   "cell_type": "code",
   "execution_count": 52,
   "id": "f55159c2",
   "metadata": {},
   "outputs": [],
   "source": [
    "DataLog[\"MachineName\"] = DataLog[\"MachineName\"].astype(\"category\")\n",
    "DataLog[\"Timestamp\"] = pd.to_datetime(DataLog[\"Timestamp\"])"
   ]
  },
  {
   "cell_type": "code",
   "execution_count": 55,
   "id": "9242fae2",
   "metadata": {},
   "outputs": [
    {
     "data": {
      "text/plain": [
       "ID                              int64\n",
       "MachineName                  category\n",
       "GoodLength                    float64\n",
       "DefectiveLength               float64\n",
       "TotalProductLength            float64\n",
       "TotalPiecesProduced             int64\n",
       "MachineStatus                category\n",
       "RequestReset                 category\n",
       "TotalBrokenMaterial             int64\n",
       "AllDrive                     category\n",
       "ReferenceBeltSpeed            float64\n",
       "ActualBeltSpeed               float64\n",
       "Timestamp              datetime64[ns]\n",
       "Elaborated                   category\n",
       "CounterReset                    Int64\n",
       "dtype: object"
      ]
     },
     "execution_count": 55,
     "metadata": {},
     "output_type": "execute_result"
    }
   ],
   "source": [
    "DataLog.dtypes"
   ]
  },
  {
   "cell_type": "markdown",
   "id": "b1fe4bd6",
   "metadata": {},
   "source": [
    "Summary:\n",
    "\n",
    "All variables in the dataset have been assigned their appropriate data types, ensuring accurate representation and facilitating effective analysis."
   ]
  },
  {
   "cell_type": "code",
   "execution_count": null,
   "id": "8283e0d6",
   "metadata": {},
   "outputs": [],
   "source": []
  }
 ],
 "metadata": {
  "kernelspec": {
   "display_name": "Python 3 (ipykernel)",
   "language": "python",
   "name": "python3"
  },
  "language_info": {
   "codemirror_mode": {
    "name": "ipython",
    "version": 3
   },
   "file_extension": ".py",
   "mimetype": "text/x-python",
   "name": "python",
   "nbconvert_exporter": "python",
   "pygments_lexer": "ipython3",
   "version": "3.10.9"
  }
 },
 "nbformat": 4,
 "nbformat_minor": 5
}
